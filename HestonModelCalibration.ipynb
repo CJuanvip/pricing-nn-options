{
 "cells": [
  {
   "cell_type": "markdown",
   "metadata": {},
   "source": [
    "# Heston Model Calibration"
   ]
  },
  {
   "cell_type": "code",
   "execution_count": 3,
   "metadata": {
    "collapsed": true
   },
   "outputs": [],
   "source": [
    "import pandas as pd\n",
    "import numpy as np\n",
    "import matplotlib.pyplot as plt\n",
    "from math import * \n",
    "from scipy.stats import norm\n",
    "from scipy.optimize import fmin_bfgs\n",
    "from scipy import *\n",
    "from scipy.integrate import quad\n",
    "from scipy import optimize"
   ]
  },
  {
   "cell_type": "code",
   "execution_count": 4,
   "metadata": {
    "collapsed": true
   },
   "outputs": [],
   "source": [
    "# Heston model solution\n",
    "def heston_call_price(kappa, theta, sigma, rho, v0 ,r ,T ,s0 ,K):\n",
    "    p1 = p(kappa, theta, sigma, rho, v0 ,r ,T ,s0 ,K, 1)\n",
    "    p2 = p(kappa, theta, sigma, rho, v0 ,r ,T ,s0 ,K, 2)\n",
    "    return (s0*p1-K*exp(-r*T)*p2)\n",
    "\n",
    "def p(kappa, theta, sigma, rho, v0 ,r ,T ,s0 , K, status):\n",
    "    integrand = lambda phi: (exp(-1j*phi*log(K))* \n",
    "    f(phi, kappa, theta, sigma, rho, v0, r, T, s0, status)/(1j*phi)).real    \n",
    "    return (0.5+(1/pi)*quad(integrand,0,100)[0])\n",
    "\n",
    "def f(phi, kappa, theta, sigma, rho, v0, r, T, s0, status): \n",
    "    if status==1:\n",
    "        u = 0.5\n",
    "        b = kappa-rho*sigma\n",
    "    else:\n",
    "        u = -0.5\n",
    "        b = kappa\n",
    "    \n",
    "    a = kappa*theta\n",
    "    x = log(s0)\n",
    "    d = sqrt((rho*sigma*phi*1j-b)**2-sigma**2*(2*u*phi*1j-phi**2))\n",
    "    g = (b-rho*sigma*phi*1j+d)/(b-rho*sigma*phi*1j-d)\n",
    "    C = r*phi*1j*T+(a/sigma**2)*((b-rho*sigma*phi*1j+d)*T-2*log((1-g*exp(d*T))/(1-g)))\n",
    "    D = (b-rho*sigma*phi*1j+d)/sigma**2*((1-exp(d*T))/(1-g*exp(d*T)))\n",
    "    return exp(C+D*v0+1j*phi*x)\n"
   ]
  },
  {
   "cell_type": "code",
   "execution_count": 5,
   "metadata": {
    "collapsed": true
   },
   "outputs": [],
   "source": [
    "# Calibration(kappa, theta, sigma, rho, v0)\n",
    "def calibrate(init_val, market_datas):\n",
    "    def error(x):\n",
    "        kappa, theta, sigma, rho, v0 = x\n",
    "        print('x=',kappa, theta, sigma, rho, v0)\n",
    "        result = 0.0\n",
    "        for i in range(0,len(market_datas)):\n",
    "            s0, k, market_price, r, T = market_datas.iloc[i]\n",
    "            #print(s0, k, market_price, r, T)\n",
    "            heston_price = heston_call_price(kappa, theta, sigma, rho, v0, r, T, s0, k)\n",
    "            result += (heston_price - market_price)**2\n",
    "            \n",
    "        print('result',result)\n",
    "        return result\n",
    "    opt=optimize.least_squares(error,init_val)# ??? or fmin, or leastsq\n",
    "    return opt"
   ]
  },
  {
   "cell_type": "code",
   "execution_count": 6,
   "metadata": {
    "collapsed": true
   },
   "outputs": [],
   "source": [
    "# Load market data\n",
    "# S0  K  Call_Price  r  T\n",
    "market_datas=pd.read_csv('marketdata.csv')"
   ]
  },
  {
   "cell_type": "code",
   "execution_count": 7,
   "metadata": {
    "collapsed": true
   },
   "outputs": [],
   "source": [
    "# Initialize kappa, theta, sigma, rho, v0\n",
    "init_val = [1.1,0.1,0.4,-0.0,0.1]\n",
    "\n",
    "# Calibration of parameters\n",
    "opt = calibrate(init_val, market_datas) #very slow!!!!!\n",
    "kappa, theta, sigma, rho, v0=opt"
   ]
  },
  {
   "cell_type": "code",
   "execution_count": 8,
   "metadata": {},
   "outputs": [
    {
     "data": {
      "image/png": "[encoded data removed]",
      "text/plain": [
       "<matplotlib.figure.Figure at 0x116942b38>"
      ]
     },
     "metadata": {},
     "output_type": "display_data"
    }
   ],
   "source": [
    "# Compute Heston prices using optimized params\n",
    "market_prices = np.array([])\n",
    "heston_prices = np.array([])\n",
    "K = np.array([])\n",
    "for i in range(0,len(market_datas)):\n",
    "    s0, k, market_price, r, T = market_datas.iloc[i] \n",
    "    heston_prices = np.append(heston_prices, heston_call_price(kappa, theta, sigma, rho, v0, r, T, s0, k))\n",
    "    market_prices = np.append(market_prices, market_price)\n",
    "    K = np.append(K,k)\n",
    "\n",
    "#plot result\n",
    "plt.plot(K, market_prices, 'r*',label='market prices')\n",
    "plt.plot(K, heston_prices, 'b',label='heston prices')\n",
    "plt.xlabel('Strike (K)')\n",
    "plt.ylabel('Price')\n",
    "plt.legend()\n",
    "plt.show()"
   ]
  }
 ],
 "metadata": {
  "kernelspec": {
   "display_name": "Python 3",
   "language": "python",
   "name": "python3"
  },
  "language_info": {
   "codemirror_mode": {
    "name": "ipython",
    "version": 3
   },
   "file_extension": ".py",
   "mimetype": "text/x-python",
   "name": "python",
   "nbconvert_exporter": "python",
   "pygments_lexer": "ipython3",
   "version": "3.6.1"
  }
 },
 "nbformat": 4,
 "nbformat_minor": 2
}
